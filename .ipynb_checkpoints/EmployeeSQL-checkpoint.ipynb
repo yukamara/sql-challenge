{
 "cells": [
  {
   "cell_type": "code",
   "execution_count": null,
   "id": "7697561f",
   "metadata": {},
   "outputs": [],
   "source": [
    "# Pandas\n",
    "import pandas as pd\n",
    "\n",
    "# Matplotlib for the plots\n",
    "import matplotlib.pyplot as plt "
   ]
  },
  {
   "cell_type": "code",
   "execution_count": null,
   "id": "cab0367c",
   "metadata": {},
   "outputs": [],
   "source": [
    "# Connection to the Employee Database\n",
    "employee_path = \"../EmployeeSQL/employees.csv\"\n",
    "\n",
    "\n",
    "\n",
    "\n",
    "from sqlalchemy import create_engine\n",
    "engine = create_engine('postgresql://localhost:5432/<your_db_name>')\n",
    "connection = engine.connect()"
   ]
  }
 ],
 "metadata": {
  "kernelspec": {
   "display_name": "Python [conda env:PythonData] *",
   "language": "python",
   "name": "conda-env-PythonData-py"
  },
  "language_info": {
   "codemirror_mode": {
    "name": "ipython",
    "version": 3
   },
   "file_extension": ".py",
   "mimetype": "text/x-python",
   "name": "python",
   "nbconvert_exporter": "python",
   "pygments_lexer": "ipython3",
   "version": "3.6.10"
  }
 },
 "nbformat": 4,
 "nbformat_minor": 5
}
