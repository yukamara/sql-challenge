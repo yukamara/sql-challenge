{
 "cells": [
  {
   "cell_type": "code",
   "execution_count": null,
   "id": "c245e15e",
   "metadata": {},
   "outputs": [],
   "source": [
    "import pandas as pd\n",
    "from sqlalchemy import create_engine\n",
    "\n",
    "# follows django database settings format, replace with your own settings\n",
    "DATABASES = {\n",
    "    'production':{\n",
    "        'NAME': 'dbname',\n",
    "        'USER': 'user',\n",
    "        'PASSWORD': 'pass',\n",
    "        'HOST': 'rdsname.clqksfdibzsj.us-east-1.rds.amazonaws.com',\n",
    "        'PORT': 5432,\n",
    "    },\n",
    "}\n",
    "\n",
    "# choose the database to use\n",
    "db = DATABASES['production']\n",
    "\n",
    "# construct an engine connection string\n",
    "engine_string = \"postgresql+psycopg2://{user}:{password}@{host}:{port}/{database}\".format(\n",
    "    user = db['USER'],\n",
    "    password = db['PASSWORD'],\n",
    "    host = db['HOST'],\n",
    "    port = db['PORT'],\n",
    "    database = db['NAME'],\n",
    ")\n",
    "\n",
    "# create sqlalchemy engine\n",
    "engine = create_engine(engine_string)\n",
    "\n",
    "# read a table from database into pandas dataframe, replace \"tablename\" with your table name\n",
    "df = pd.read_sql_table('tablename',engine)"
   ]
  }
 ],
 "metadata": {
  "kernelspec": {
   "display_name": "Python [conda env:PythonData] *",
   "language": "python",
   "name": "conda-env-PythonData-py"
  },
  "language_info": {
   "codemirror_mode": {
    "name": "ipython",
    "version": 3
   },
   "file_extension": ".py",
   "mimetype": "text/x-python",
   "name": "python",
   "nbconvert_exporter": "python",
   "pygments_lexer": "ipython3",
   "version": "3.6.10"
  }
 },
 "nbformat": 4,
 "nbformat_minor": 5
}
